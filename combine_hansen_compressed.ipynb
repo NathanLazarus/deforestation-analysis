{
 "cells": [
  {
   "cell_type": "code",
   "execution_count": 1,
   "metadata": {},
   "outputs": [],
   "source": [
    "import numpy as np"
   ]
  },
  {
   "cell_type": "code",
   "execution_count": 4,
   "metadata": {},
   "outputs": [],
   "source": [
    "data_dir = \"data/interim/compressed_tiles\"\n",
    "clean_dir = \"data/clean\""
   ]
  },
  {
   "cell_type": "code",
   "execution_count": 3,
   "metadata": {},
   "outputs": [],
   "source": [
    "cancer = 23.4394\n",
    "capricorn = -23.4394\n",
    "\n",
    "def ilat(lat):\n",
    "    return round((10 - lat % 10) * 20) - 1\n",
    "\n",
    "def trim_to_tropics(a):\n",
    "    assert a.shape == (1200,7200)\n",
    "    return a[ilat(cancer):(1000+ilat(capricorn)),:]\n",
    "\n",
    "def combine_tiles(measure):\n",
    "    b = None\n",
    "\n",
    "    for lat in range(-20,40,10):\n",
    "        a = np.load(f\"{data_dir}/{lat}_-180_{measure}.npy\")[0]\n",
    "        for i in range(-170,180,10):\n",
    "            a = np.hstack([a, np.load(f\"{data_dir}/{lat}_{i}_{measure}.npy\")[0]])\n",
    "        \n",
    "        b = a if b is None else np.vstack([a,b])\n",
    "    \n",
    "    return trim_to_tropics(b)"
   ]
  },
  {
   "cell_type": "code",
   "execution_count": 5,
   "metadata": {},
   "outputs": [],
   "source": [
    "for measure in [\"cover\", \"loss\", \"mask\"]:\n",
    "    # NB loss data currently only valid as binary\n",
    "    # 0 is no loss\n",
    "    # > 0 is loss (but actual actual figures are misleadingly compressed)\n",
    "    b = combine_tiles(measure)\n",
    "    np.save(f\"{clean_dir}/{measure}_tropics.npy\", b)"
   ]
  },
  {
   "cell_type": "code",
   "execution_count": 6,
   "metadata": {},
   "outputs": [],
   "source": [
    "# NB loss data not yet compressed properly\n",
    "loss_files = [combine_tiles(f\"loss_{yr}\") for yr in range(1,21)]\n",
    "\n",
    "loss_stack = np.stack([np.zeros_like(loss_files[0]), *loss_files])\n",
    "loss_max = np.max(loss_stack, axis=0)\n",
    "loss_sum = np.sum(loss_stack, axis=0)\n",
    "loss_year = np.argmax(loss_stack, axis=0)\n",
    "\n",
    "np.save(f\"{clean_dir}/loss_stack_tropics.npy\", loss_stack)\n",
    "np.save(f\"{clean_dir}/loss_max_tropics.npy\", loss_max)\n",
    "np.save(f\"{clean_dir}/loss_sum_tropics.npy\", loss_sum)\n",
    "np.save(f\"{clean_dir}/loss_year_tropics.npy\", loss_year)"
   ]
  }
 ],
 "metadata": {
  "kernelspec": {
   "display_name": "Python 3.9.2 64-bit ('3.9.2')",
   "language": "python",
   "name": "python3"
  },
  "language_info": {
   "codemirror_mode": {
    "name": "ipython",
    "version": 3
   },
   "file_extension": ".py",
   "mimetype": "text/x-python",
   "name": "python",
   "nbconvert_exporter": "python",
   "pygments_lexer": "ipython3",
   "version": "3.9.2"
  },
  "orig_nbformat": 4,
  "vscode": {
   "interpreter": {
    "hash": "1b750f273eab6bb805c9eba9b8f1c61f9aebec348bb54ede6125b0e9e60b3561"
   }
  }
 },
 "nbformat": 4,
 "nbformat_minor": 2
}
