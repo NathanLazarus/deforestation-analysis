{
 "cells": [
  {
   "cell_type": "markdown",
   "metadata": {},
   "source": [
    "Imports"
   ]
  },
  {
   "cell_type": "code",
   "execution_count": 1,
   "metadata": {},
   "outputs": [],
   "source": [
    "# Basics\n",
    "import re\n",
    "\n",
    "# Multiprocessing\n",
    "import multiprocess as mp\n",
    "import concurrent.futures\n",
    "import threading\n",
    "\n",
    "# Data\n",
    "import numpy as np\n",
    "import pandas as pd\n",
    "from matplotlib import pyplot\n",
    "\n",
    "# Country codes\n",
    "import pycountry\n",
    "\n",
    "# Rasters - pixel data\n",
    "import rasterio\n",
    "from rasterio.plot import show\n",
    "from rasterio.features import rasterize\n",
    "\n",
    "# Polygons - country outlines\n",
    "from shapely.geometry import Polygon\n",
    "import geopandas as gpd\n",
    "from scripts.countryoutlines import CountryOutlines  # custom class\n",
    "\n",
    "# Custom classes for Hansen et al., 2013\n",
    "from scripts.hansenhandler import HansenHandler, DataType\n",
    "from scripts.tile import Tile\n"
   ]
  },
  {
   "cell_type": "code",
   "execution_count": 5,
   "metadata": {},
   "outputs": [
    {
     "data": {
      "text/plain": [
       "dtype('int64')"
      ]
     },
     "execution_count": 5,
     "metadata": {},
     "output_type": "execute_result"
    }
   ],
   "source": [
    "# a = np.array(\"0  1  2  3  4  5  6  7  8  9 10 11 12 13 14 15 16 17 18 19 20 21 22 23 \\\n",
    "#  24 25 26 27 28 29 30 31 32 33 34 35 36 37 38 39 40 41 42 43 44 45 46 47 \\\n",
    "#  48 49 50 51 52 53 54 55 56 57 58 59 60 61 62 63 64 65 66 67 68 69 70 71 \\\n",
    "#  72 73 74 75 76 77 78 79 80 81 82 83 84 85 86 87 88 89 90 91 92 93 94 95 \\\n",
    "#  96 97 98\".split(\" \"))\n",
    "\n",
    "a = np.arange(100)\n",
    "a.dtype"
   ]
  },
  {
   "cell_type": "code",
   "execution_count": 2,
   "metadata": {},
   "outputs": [
    {
     "name": "stdout",
     "output_type": "stream",
     "text": [
      "-20 -10\n",
      "[0 4 6 8]\n",
      "[0 8]\n",
      "[0 1 2 3 4]\n",
      "50\n",
      "[ 0  1  2  3  4 40 41 42 43 44]\n",
      "(50,)\n",
      "[ 1737013  1216183  2466939  2445452 16546779        0        0        0\n",
      "        0        0        0        0        0        0        0        0\n",
      "        0        0        0        0        0        0        0        0\n",
      "        0        0        0        0        0        0        0        0\n",
      "        0        0        0        0        0        0        0        0\n",
      "      719      149      297      761     9143        0        0        0\n",
      "        0        0]\n",
      "   code  group        minx       miny        maxx       maxy          country  \\\n",
      "0   FJI      2  176.899719 -19.193611  180.000000 -12.461724             Fiji   \n",
      "1   FJI      2  176.899719 -19.193611  180.000000 -12.461724             Fiji   \n",
      "2   FJI      2  176.899719 -19.193611  180.000000 -12.461724             Fiji   \n",
      "3   FJI      2  176.899719 -19.193611  180.000000 -12.461724             Fiji   \n",
      "4   FJI      2  176.899719 -19.193611  180.000000 -12.461724             Fiji   \n",
      "5   FJI      2  176.899719 -19.193611  180.000000 -12.461724             Fiji   \n",
      "6   FJI      2  176.899719 -19.193611  180.000000 -12.461724             Fiji   \n",
      "7   FJI      2  176.899719 -19.193611  180.000000 -12.461724             Fiji   \n",
      "8   FJI      2  176.899719 -19.193611  180.000000 -12.461724             Fiji   \n",
      "9   FJI      2  176.899719 -19.193611  180.000000 -12.461724             Fiji   \n",
      "10  NCL      1  155.868896 -22.848057  172.090088 -17.399166    New Caledonia   \n",
      "11  NCL      1  155.868896 -22.848057  172.090088 -17.399166    New Caledonia   \n",
      "12  NCL      1  155.868896 -22.848057  172.090088 -17.399166    New Caledonia   \n",
      "13  NCL      1  155.868896 -22.848057  172.090088 -17.399166    New Caledonia   \n",
      "14  NCL      1  155.868896 -22.848057  172.090088 -17.399166    New Caledonia   \n",
      "15  NCL      1  155.868896 -22.848057  172.090088 -17.399166    New Caledonia   \n",
      "16  NCL      1  155.868896 -22.848057  172.090088 -17.399166    New Caledonia   \n",
      "17  NCL      1  155.868896 -22.848057  172.090088 -17.399166    New Caledonia   \n",
      "18  NCL      1  155.868896 -22.848057  172.090088 -17.399166    New Caledonia   \n",
      "19  NCL      1  155.868896 -22.848057  172.090088 -17.399166    New Caledonia   \n",
      "20  SLB      1  155.392502 -12.308334  170.192505  -4.445220  Solomon Islands   \n",
      "21  SLB      1  155.392502 -12.308334  170.192505  -4.445220  Solomon Islands   \n",
      "22  SLB      1  155.392502 -12.308334  170.192505  -4.445220  Solomon Islands   \n",
      "23  SLB      1  155.392502 -12.308334  170.192505  -4.445220  Solomon Islands   \n",
      "24  SLB      1  155.392502 -12.308334  170.192505  -4.445220  Solomon Islands   \n",
      "25  SLB      1  155.392502 -12.308334  170.192505  -4.445220  Solomon Islands   \n",
      "26  SLB      1  155.392502 -12.308334  170.192505  -4.445220  Solomon Islands   \n",
      "27  SLB      1  155.392502 -12.308334  170.192505  -4.445220  Solomon Islands   \n",
      "28  SLB      1  155.392502 -12.308334  170.192505  -4.445220  Solomon Islands   \n",
      "29  SLB      1  155.392502 -12.308334  170.192505  -4.445220  Solomon Islands   \n",
      "30  TUV      1  176.058746 -10.791870  179.871353  -5.642500           Tuvalu   \n",
      "31  TUV      1  176.058746 -10.791870  179.871353  -5.642500           Tuvalu   \n",
      "32  TUV      1  176.058746 -10.791870  179.871353  -5.642500           Tuvalu   \n",
      "33  TUV      1  176.058746 -10.791870  179.871353  -5.642500           Tuvalu   \n",
      "34  TUV      1  176.058746 -10.791870  179.871353  -5.642500           Tuvalu   \n",
      "35  TUV      1  176.058746 -10.791870  179.871353  -5.642500           Tuvalu   \n",
      "36  TUV      1  176.058746 -10.791870  179.871353  -5.642500           Tuvalu   \n",
      "37  TUV      1  176.058746 -10.791870  179.871353  -5.642500           Tuvalu   \n",
      "38  TUV      1  176.058746 -10.791870  179.871353  -5.642500           Tuvalu   \n",
      "39  TUV      1  176.058746 -10.791870  179.871353  -5.642500           Tuvalu   \n",
      "40  VUT      1  166.541397 -20.253241  170.240280 -13.072476          Vanuatu   \n",
      "41  VUT      1  166.541397 -20.253241  170.240280 -13.072476          Vanuatu   \n",
      "42  VUT      1  166.541397 -20.253241  170.240280 -13.072476          Vanuatu   \n",
      "43  VUT      1  166.541397 -20.253241  170.240280 -13.072476          Vanuatu   \n",
      "44  VUT      1  166.541397 -20.253241  170.240280 -13.072476          Vanuatu   \n",
      "45  VUT      1  166.541397 -20.253241  170.240280 -13.072476          Vanuatu   \n",
      "46  VUT      1  166.541397 -20.253241  170.240280 -13.072476          Vanuatu   \n",
      "47  VUT      1  166.541397 -20.253241  170.240280 -13.072476          Vanuatu   \n",
      "48  VUT      1  166.541397 -20.253241  170.240280 -13.072476          Vanuatu   \n",
      "49  VUT      1  166.541397 -20.253241  170.240280 -13.072476          Vanuatu   \n",
      "\n",
      "    lat  long  tropics  ...     loss_2011     loss_2012     loss_2013  \\\n",
      "0   -10   170    False  ...  0.000000e+00  0.000000e+00  0.000000e+00   \n",
      "1   -10   170    False  ...  1.616817e+04  3.531181e+05  9.269421e+05   \n",
      "2   -10   170    False  ...  2.071163e+05  2.020106e+06  3.924958e+06   \n",
      "3   -10   170    False  ...  2.096926e+06  6.271642e+06  9.954552e+06   \n",
      "4   -10   170    False  ...  1.891372e+07  3.682273e+07  8.800913e+07   \n",
      "5   -10   170     True  ...  0.000000e+00  0.000000e+00  0.000000e+00   \n",
      "6   -10   170     True  ...  0.000000e+00  0.000000e+00  0.000000e+00   \n",
      "7   -10   170     True  ...  0.000000e+00  0.000000e+00  0.000000e+00   \n",
      "8   -10   170     True  ...  0.000000e+00  0.000000e+00  0.000000e+00   \n",
      "9   -10   170     True  ...  0.000000e+00  0.000000e+00  0.000000e+00   \n",
      "10  -10   170    False  ...  0.000000e+00  0.000000e+00  0.000000e+00   \n",
      "11  -10   170    False  ...  0.000000e+00  0.000000e+00  0.000000e+00   \n",
      "12  -10   170    False  ...  0.000000e+00  0.000000e+00  0.000000e+00   \n",
      "13  -10   170    False  ...  0.000000e+00  0.000000e+00  0.000000e+00   \n",
      "14  -10   170    False  ...  0.000000e+00  0.000000e+00  0.000000e+00   \n",
      "15  -10   170     True  ...  0.000000e+00  0.000000e+00  0.000000e+00   \n",
      "16  -10   170     True  ...  0.000000e+00  0.000000e+00  0.000000e+00   \n",
      "17  -10   170     True  ...  0.000000e+00  0.000000e+00  0.000000e+00   \n",
      "18  -10   170     True  ...  0.000000e+00  0.000000e+00  0.000000e+00   \n",
      "19  -10   170     True  ...  0.000000e+00  0.000000e+00  0.000000e+00   \n",
      "20  -10   170    False  ...  0.000000e+00  0.000000e+00  0.000000e+00   \n",
      "21  -10   170    False  ...  0.000000e+00  0.000000e+00  0.000000e+00   \n",
      "22  -10   170    False  ...  0.000000e+00  0.000000e+00  0.000000e+00   \n",
      "23  -10   170    False  ...  0.000000e+00  0.000000e+00  0.000000e+00   \n",
      "24  -10   170    False  ...  0.000000e+00  0.000000e+00  0.000000e+00   \n",
      "25  -10   170     True  ...  0.000000e+00  0.000000e+00  0.000000e+00   \n",
      "26  -10   170     True  ...  0.000000e+00  0.000000e+00  0.000000e+00   \n",
      "27  -10   170     True  ...  0.000000e+00  0.000000e+00  0.000000e+00   \n",
      "28  -10   170     True  ...  0.000000e+00  0.000000e+00  0.000000e+00   \n",
      "29  -10   170     True  ...  0.000000e+00  0.000000e+00  0.000000e+00   \n",
      "30  -10   170    False  ...  0.000000e+00  0.000000e+00  0.000000e+00   \n",
      "31  -10   170    False  ...  0.000000e+00  0.000000e+00  0.000000e+00   \n",
      "32  -10   170    False  ...  0.000000e+00  0.000000e+00  0.000000e+00   \n",
      "33  -10   170    False  ...  0.000000e+00  0.000000e+00  0.000000e+00   \n",
      "34  -10   170    False  ...  0.000000e+00  0.000000e+00  0.000000e+00   \n",
      "35  -10   170     True  ...  0.000000e+00  0.000000e+00  0.000000e+00   \n",
      "36  -10   170     True  ...  0.000000e+00  0.000000e+00  0.000000e+00   \n",
      "37  -10   170     True  ...  0.000000e+00  0.000000e+00  0.000000e+00   \n",
      "38  -10   170     True  ...  0.000000e+00  0.000000e+00  0.000000e+00   \n",
      "39  -10   170     True  ...  0.000000e+00  0.000000e+00  0.000000e+00   \n",
      "40  -10   170    False  ...  0.000000e+00  0.000000e+00  0.000000e+00   \n",
      "41  -10   170    False  ...  0.000000e+00  0.000000e+00  0.000000e+00   \n",
      "42  -10   170    False  ...  0.000000e+00  0.000000e+00  0.000000e+00   \n",
      "43  -10   170    False  ...  0.000000e+00  0.000000e+00  0.000000e+00   \n",
      "44  -10   170    False  ...  0.000000e+00  0.000000e+00  0.000000e+00   \n",
      "45  -10   170     True  ...  0.000000e+00  0.000000e+00  0.000000e+00   \n",
      "46  -10   170     True  ...  0.000000e+00  0.000000e+00  0.000000e+00   \n",
      "47  -10   170     True  ...  0.000000e+00  0.000000e+00  0.000000e+00   \n",
      "48  -10   170     True  ...  0.000000e+00  0.000000e+00  0.000000e+00   \n",
      "49  -10   170     True  ...  0.000000e+00  0.000000e+00  0.000000e+00   \n",
      "\n",
      "       loss_2014     loss_2015     loss_2016     loss_2017     loss_2018  \\\n",
      "0   0.000000e+00  0.000000e+00  0.000000e+00  0.000000e+00  0.000000e+00   \n",
      "1   1.878480e+06  8.529105e+05  3.556131e+06  1.905627e+06  4.286362e+05   \n",
      "2   9.907595e+06  3.100140e+06  1.221862e+07  9.315464e+06  3.084357e+06   \n",
      "3   2.483428e+07  7.561728e+06  3.294986e+07  1.348229e+07  6.837534e+06   \n",
      "4   9.699530e+07  5.801017e+07  2.698516e+08  8.950397e+07  4.010214e+07   \n",
      "5   0.000000e+00  0.000000e+00  0.000000e+00  0.000000e+00  0.000000e+00   \n",
      "6   0.000000e+00  0.000000e+00  0.000000e+00  0.000000e+00  0.000000e+00   \n",
      "7   0.000000e+00  0.000000e+00  0.000000e+00  0.000000e+00  0.000000e+00   \n",
      "8   0.000000e+00  0.000000e+00  0.000000e+00  0.000000e+00  0.000000e+00   \n",
      "9   0.000000e+00  0.000000e+00  0.000000e+00  0.000000e+00  0.000000e+00   \n",
      "10  0.000000e+00  0.000000e+00  0.000000e+00  0.000000e+00  0.000000e+00   \n",
      "11  0.000000e+00  0.000000e+00  0.000000e+00  0.000000e+00  0.000000e+00   \n",
      "12  0.000000e+00  0.000000e+00  0.000000e+00  0.000000e+00  0.000000e+00   \n",
      "13  0.000000e+00  0.000000e+00  0.000000e+00  0.000000e+00  0.000000e+00   \n",
      "14  0.000000e+00  0.000000e+00  0.000000e+00  0.000000e+00  0.000000e+00   \n",
      "15  0.000000e+00  0.000000e+00  0.000000e+00  0.000000e+00  0.000000e+00   \n",
      "16  0.000000e+00  0.000000e+00  0.000000e+00  0.000000e+00  0.000000e+00   \n",
      "17  0.000000e+00  0.000000e+00  0.000000e+00  0.000000e+00  0.000000e+00   \n",
      "18  0.000000e+00  0.000000e+00  0.000000e+00  0.000000e+00  0.000000e+00   \n",
      "19  0.000000e+00  0.000000e+00  0.000000e+00  0.000000e+00  0.000000e+00   \n",
      "20  0.000000e+00  0.000000e+00  0.000000e+00  0.000000e+00  0.000000e+00   \n",
      "21  0.000000e+00  0.000000e+00  0.000000e+00  0.000000e+00  0.000000e+00   \n",
      "22  0.000000e+00  0.000000e+00  0.000000e+00  0.000000e+00  0.000000e+00   \n",
      "23  0.000000e+00  0.000000e+00  0.000000e+00  0.000000e+00  0.000000e+00   \n",
      "24  0.000000e+00  0.000000e+00  0.000000e+00  0.000000e+00  0.000000e+00   \n",
      "25  0.000000e+00  0.000000e+00  0.000000e+00  0.000000e+00  0.000000e+00   \n",
      "26  0.000000e+00  0.000000e+00  0.000000e+00  0.000000e+00  0.000000e+00   \n",
      "27  0.000000e+00  0.000000e+00  0.000000e+00  0.000000e+00  0.000000e+00   \n",
      "28  0.000000e+00  0.000000e+00  0.000000e+00  0.000000e+00  0.000000e+00   \n",
      "29  0.000000e+00  0.000000e+00  0.000000e+00  0.000000e+00  0.000000e+00   \n",
      "30  0.000000e+00  0.000000e+00  0.000000e+00  0.000000e+00  0.000000e+00   \n",
      "31  0.000000e+00  0.000000e+00  0.000000e+00  0.000000e+00  0.000000e+00   \n",
      "32  0.000000e+00  0.000000e+00  0.000000e+00  0.000000e+00  0.000000e+00   \n",
      "33  0.000000e+00  0.000000e+00  0.000000e+00  0.000000e+00  0.000000e+00   \n",
      "34  0.000000e+00  0.000000e+00  0.000000e+00  0.000000e+00  0.000000e+00   \n",
      "35  0.000000e+00  0.000000e+00  0.000000e+00  0.000000e+00  0.000000e+00   \n",
      "36  0.000000e+00  0.000000e+00  0.000000e+00  0.000000e+00  0.000000e+00   \n",
      "37  0.000000e+00  0.000000e+00  0.000000e+00  0.000000e+00  0.000000e+00   \n",
      "38  0.000000e+00  0.000000e+00  0.000000e+00  0.000000e+00  0.000000e+00   \n",
      "39  0.000000e+00  0.000000e+00  0.000000e+00  0.000000e+00  0.000000e+00   \n",
      "40  0.000000e+00  0.000000e+00  0.000000e+00  0.000000e+00  0.000000e+00   \n",
      "41  0.000000e+00  0.000000e+00  0.000000e+00  0.000000e+00  0.000000e+00   \n",
      "42  0.000000e+00  0.000000e+00  0.000000e+00  0.000000e+00  0.000000e+00   \n",
      "43  0.000000e+00  0.000000e+00  0.000000e+00  0.000000e+00  0.000000e+00   \n",
      "44  0.000000e+00  0.000000e+00  0.000000e+00  0.000000e+00  0.000000e+00   \n",
      "45  0.000000e+00  0.000000e+00  0.000000e+00  0.000000e+00  0.000000e+00   \n",
      "46  0.000000e+00  0.000000e+00  0.000000e+00  0.000000e+00  0.000000e+00   \n",
      "47  0.000000e+00  0.000000e+00  0.000000e+00  0.000000e+00  0.000000e+00   \n",
      "48  0.000000e+00  0.000000e+00  0.000000e+00  0.000000e+00  0.000000e+00   \n",
      "49  0.000000e+00  0.000000e+00  0.000000e+00  0.000000e+00  0.000000e+00   \n",
      "\n",
      "       loss_2019     loss_2020  \n",
      "0   0.000000e+00  0.000000e+00  \n",
      "1   5.202877e+05  7.602603e+05  \n",
      "2   3.070770e+06  4.886828e+06  \n",
      "3   7.196709e+06  8.463150e+06  \n",
      "4   4.320156e+07  6.275153e+07  \n",
      "5   0.000000e+00  0.000000e+00  \n",
      "6   0.000000e+00  0.000000e+00  \n",
      "7   0.000000e+00  0.000000e+00  \n",
      "8   0.000000e+00  0.000000e+00  \n",
      "9   0.000000e+00  0.000000e+00  \n",
      "10  0.000000e+00  0.000000e+00  \n",
      "11  0.000000e+00  0.000000e+00  \n",
      "12  0.000000e+00  0.000000e+00  \n",
      "13  0.000000e+00  0.000000e+00  \n",
      "14  0.000000e+00  0.000000e+00  \n",
      "15  0.000000e+00  0.000000e+00  \n",
      "16  0.000000e+00  0.000000e+00  \n",
      "17  0.000000e+00  0.000000e+00  \n",
      "18  0.000000e+00  0.000000e+00  \n",
      "19  0.000000e+00  0.000000e+00  \n",
      "20  0.000000e+00  0.000000e+00  \n",
      "21  0.000000e+00  0.000000e+00  \n",
      "22  0.000000e+00  0.000000e+00  \n",
      "23  0.000000e+00  0.000000e+00  \n",
      "24  0.000000e+00  0.000000e+00  \n",
      "25  0.000000e+00  0.000000e+00  \n",
      "26  0.000000e+00  0.000000e+00  \n",
      "27  0.000000e+00  0.000000e+00  \n",
      "28  0.000000e+00  0.000000e+00  \n",
      "29  0.000000e+00  0.000000e+00  \n",
      "30  0.000000e+00  0.000000e+00  \n",
      "31  0.000000e+00  0.000000e+00  \n",
      "32  0.000000e+00  0.000000e+00  \n",
      "33  0.000000e+00  0.000000e+00  \n",
      "34  0.000000e+00  0.000000e+00  \n",
      "35  0.000000e+00  0.000000e+00  \n",
      "36  0.000000e+00  0.000000e+00  \n",
      "37  0.000000e+00  0.000000e+00  \n",
      "38  0.000000e+00  0.000000e+00  \n",
      "39  0.000000e+00  0.000000e+00  \n",
      "40  0.000000e+00  0.000000e+00  \n",
      "41  0.000000e+00  0.000000e+00  \n",
      "42  0.000000e+00  0.000000e+00  \n",
      "43  0.000000e+00  0.000000e+00  \n",
      "44  5.808932e+03  0.000000e+00  \n",
      "45  0.000000e+00  0.000000e+00  \n",
      "46  0.000000e+00  0.000000e+00  \n",
      "47  0.000000e+00  0.000000e+00  \n",
      "48  0.000000e+00  0.000000e+00  \n",
      "49  0.000000e+00  0.000000e+00  \n",
      "\n",
      "[50 rows x 34 columns]\n"
     ]
    }
   ],
   "source": [
    "import tilestats\n",
    "\n",
    "df = tilestats.make_table((-10,170), False)\n",
    "\n",
    "print(df)\n",
    "\n",
    "# a = np.arange(20)\n",
    "\n",
    "# b = a % 10\n",
    "\n",
    "# c = (a > 8) & (b > 8)\n",
    "# c"
   ]
  },
  {
   "cell_type": "code",
   "execution_count": 4,
   "metadata": {},
   "outputs": [],
   "source": [
    "df.to_csv(\"practice.csv\", index=False)"
   ]
  },
  {
   "cell_type": "code",
   "execution_count": 76,
   "metadata": {},
   "outputs": [
    {
     "data": {
      "text/plain": [
       "array([0, 1, 1, 1, 1, 1, 1, 1, 1, 1, 1, 1, 1, 1, 1, 1, 1, 1, 1, 1, 1, 1,\n",
       "       1, 1, 1, 1, 2, 2, 2, 2, 2, 2, 2, 2, 2, 2, 2, 2, 2, 2, 2, 2, 2, 2,\n",
       "       2, 2, 2, 2, 2, 2, 2, 3, 3, 3, 3, 3, 3, 3, 3, 3, 3, 3, 3, 3, 3, 3,\n",
       "       3, 3, 3, 3, 3, 3, 3, 3, 3, 3, 4, 4, 4, 4, 4, 4, 4, 4, 4, 4, 4, 4,\n",
       "       4, 4, 4, 4, 4, 4, 4, 4, 4, 4, 4, 4, 4])"
      ]
     },
     "execution_count": 76,
     "metadata": {},
     "output_type": "execute_result"
    }
   ],
   "source": [
    "a = np.arange(101)\n",
    "\n",
    "(a-1) // 25 + 1"
   ]
  },
  {
   "cell_type": "code",
   "execution_count": 67,
   "metadata": {},
   "outputs": [
    {
     "data": {
      "image/png": "[encoded data removed]",
      "text/plain": [
       "<Figure size 432x288 with 1 Axes>"
      ]
     },
     "metadata": {
      "needs_background": "light"
     },
     "output_type": "display_data"
    }
   ],
   "source": [
    "def read_band(raster, window=None, return_affine=False):\n",
    "    if window:\n",
    "        band = raster.read(1, window=window)\n",
    "        affine = raster.window_transform(window)\n",
    "    else:\n",
    "        band = raster.read(1)\n",
    "        affine = raster.transform\n",
    "\n",
    "    if return_affine:\n",
    "        return (band, affine)\n",
    "    else:\n",
    "        return band\n",
    "\n",
    "tile = Tile(10,-60)\n",
    "with tile.load_data(DataType.datamask) as mask_raster:\n",
    "    show((mask_raster, 1))\n",
    "    "
   ]
  },
  {
   "cell_type": "code",
   "execution_count": 83,
   "metadata": {},
   "outputs": [
    {
     "name": "stdout",
     "output_type": "stream",
     "text": [
      "(40000, 40000)\n"
     ]
    }
   ],
   "source": [
    "def read_band(raster, window=None, return_affine=False):\n",
    "    if window:\n",
    "        band = raster.read(1, window=window)\n",
    "        affine = raster.window_transform(window)\n",
    "    else:\n",
    "        band = raster.read(1)\n",
    "        affine = raster.transform\n",
    "\n",
    "    if return_affine:\n",
    "        return (band, affine)\n",
    "    else:\n",
    "        return band\n",
    "\n",
    "tile = Tile(10,-60)\n",
    "with tile.load_data(DataType.datamask) as mask_raster:\n",
    "    m = read_band(mask_raster)\n",
    "    print(m.shape)"
   ]
  },
  {
   "cell_type": "code",
   "execution_count": 90,
   "metadata": {},
   "outputs": [
    {
     "data": {
      "text/plain": [
       "39980"
      ]
     },
     "execution_count": 90,
     "metadata": {},
     "output_type": "execute_result"
    }
   ],
   "source": [
    "cancer = 23.4372\n",
    "capricorn = -23.4394\n",
    "ilat = lambda x: int((10 - x % 10) * 4000)\n",
    "\n",
    "ilat(0.005)"
   ]
  },
  {
   "cell_type": "code",
   "execution_count": 6,
   "metadata": {},
   "outputs": [
    {
     "data": {
      "text/plain": [
       "array([103.28207847,  51.60066119,  47.71829118])"
      ]
     },
     "execution_count": 6,
     "metadata": {},
     "output_type": "execute_result"
    }
   ],
   "source": [
    "np.bincount(geom.flatten(), np.random.random((20,20)).flatten())"
   ]
  },
  {
   "cell_type": "code",
   "execution_count": 19,
   "metadata": {},
   "outputs": [
    {
     "data": {
      "text/plain": [
       "3"
      ]
     },
     "execution_count": 19,
     "metadata": {},
     "output_type": "execute_result"
    }
   ],
   "source": [
    "10 // 3"
   ]
  },
  {
   "cell_type": "code",
   "execution_count": 14,
   "metadata": {},
   "outputs": [
    {
     "data": {
      "text/plain": [
       "51"
      ]
     },
     "execution_count": 14,
     "metadata": {},
     "output_type": "execute_result"
    }
   ],
   "source": [
    "latlon = [(lat, long)\n",
    "               for lat in range(-50, 90, 10)\n",
    "               for long in range(-180, 180, 10)]\n",
    "\n",
    "n_tiles = len(latlon)\n",
    "splits = range(10, n_tiles, 10)\n",
    "# lats = np.arange(-50,90,10)\n",
    "# longs = np.arange(-180,180,10)\n",
    "batches = np.split(latlon, splits)\n",
    "# len(batches)\n",
    "len(batches)\n"
   ]
  },
  {
   "cell_type": "code",
   "execution_count": 12,
   "metadata": {},
   "outputs": [
    {
     "data": {
      "text/plain": [
       "array([], shape=(0, 4), dtype=int64)"
      ]
     },
     "execution_count": 12,
     "metadata": {},
     "output_type": "execute_result"
    }
   ],
   "source": [
    "a = np.random.randint(0,2,(4,4))\n",
    "b = np.arange(4).reshape((-1,1))\n",
    "\n",
    "a[:0,:]"
   ]
  },
  {
   "cell_type": "markdown",
   "metadata": {},
   "source": [
    "Get country ISO alpha 3 codes"
   ]
  },
  {
   "cell_type": "code",
   "execution_count": 40,
   "metadata": {},
   "outputs": [
    {
     "data": {
      "text/plain": [
       "array(['ABW', 'AFG', 'AGO', 'AIA', 'ALA', 'ALB', 'AND', 'ARE', 'ARG',\n",
       "       'ARM', 'ASM', 'ATA', 'ATF', 'ATG', 'AUS', 'AUT', 'AZE', 'BDI',\n",
       "       'BEL', 'BEN', 'BES', 'BFA', 'BGD', 'BGR', 'BHR', 'BHS', 'BIH',\n",
       "       'BLM', 'BLR', 'BLZ', 'BMU', 'BOL', 'BRA', 'BRB', 'BRN', 'BTN',\n",
       "       'BVT', 'BWA', 'CAF', 'CAN', 'CCK', 'CHE', 'CHL', 'CHN', 'CIV',\n",
       "       'CMR', 'COD', 'COG', 'COK', 'COL', 'COM', 'CPV', 'CRI', 'CUB',\n",
       "       'CUW', 'CXR', 'CYM', 'CYP', 'CZE', 'DEU', 'DJI', 'DMA', 'DNK',\n",
       "       'DOM', 'DZA', 'ECU', 'EGY', 'ERI', 'ESH', 'ESP', 'EST', 'ETH',\n",
       "       'FIN', 'FJI', 'FLK', 'FRA', 'FRO', 'FSM', 'GAB', 'GBR', 'GEO',\n",
       "       'GGY', 'GHA', 'GIB', 'GIN', 'GLP', 'GMB', 'GNB', 'GNQ', 'GRC',\n",
       "       'GRD', 'GRL', 'GTM', 'GUF', 'GUM', 'GUY', 'HMD', 'HND', 'HRV',\n",
       "       'HTI', 'HUN', 'IDN', 'IMN', 'IND', 'IOT', 'IRL', 'IRN', 'IRQ',\n",
       "       'ISL', 'ISR', 'ITA', 'JAM', 'JEY', 'JOR', 'JPN', 'KAZ', 'KEN',\n",
       "       'KGZ', 'KHM', 'KIR', 'KNA', 'KOR', 'KWT', 'LAO', 'LBN', 'LBR',\n",
       "       'LBY', 'LCA', 'LIE', 'LKA', 'LSO', 'LTU', 'LUX', 'LVA', 'MAF',\n",
       "       'MAR', 'MCO', 'MDA', 'MDG', 'MDV', 'MEX', 'MHL', 'MKD', 'MLI',\n",
       "       'MLT', 'MMR', 'MNE', 'MNG', 'MNP', 'MOZ', 'MRT', 'MSR', 'MTQ',\n",
       "       'MUS', 'MWI', 'MYS', 'MYT', 'NAM', 'NCL', 'NER', 'NFK', 'NGA',\n",
       "       'NIC', 'NIU', 'NLD', 'NOR', 'NPL', 'NRU', 'NZL', 'OMN', 'PAK',\n",
       "       'PAN', 'PCN', 'PER', 'PHL', 'PLW', 'PNG', 'POL', 'PRI', 'PRK',\n",
       "       'PRT', 'PRY', 'PSE', 'PYF', 'QAT', 'REU', 'ROU', 'RUS', 'RWA',\n",
       "       'SAU', 'SDN', 'SEN', 'SGP', 'SGS', 'SHN', 'SJM', 'SLB', 'SLE',\n",
       "       'SLV', 'SMR', 'SOM', 'SPM', 'SRB', 'SSD', 'STP', 'SUR', 'SVK',\n",
       "       'SVN', 'SWE', 'SWZ', 'SXM', 'SYC', 'SYR', 'TCA', 'TCD', 'TGO',\n",
       "       'THA', 'TJK', 'TKL', 'TKM', 'TLS', 'TON', 'TTO', 'TUN', 'TUR',\n",
       "       'TUV', 'TWN', 'TZA', 'UGA', 'UKR', 'UMI', 'URY', 'USA', 'UZB',\n",
       "       'VAT', 'VCT', 'VEN', 'VGB', 'VIR', 'VNM', 'VUT', 'WLF', 'WSM',\n",
       "       'XAD', 'XCA', 'XCL', 'XKO', 'XPI', 'XSP', 'YEM', 'ZAF', 'ZMB',\n",
       "       'ZNC', 'ZWE'], dtype=object)"
      ]
     },
     "execution_count": 40,
     "metadata": {},
     "output_type": "execute_result"
    }
   ],
   "source": [
    "\n",
    "# TODO add extra countries\n",
    "# countries = np.array([[country.alpha_3, country.name] for country in pycountry.countries])\n",
    "countries = t3.code.values\n",
    "countries"
   ]
  },
  {
   "cell_type": "markdown",
   "metadata": {},
   "source": [
    "Calculate bounds for each country"
   ]
  },
  {
   "cell_type": "code",
   "execution_count": 53,
   "metadata": {},
   "outputs": [],
   "source": [
    "# countries_run = countries[:20]  # Can debug on a subset\n",
    "\n",
    "try:\n",
    "    # Here's one I made earlier\n",
    "    df = pd.read_csv(\"interim/country_bounds2.csv\", index_col=[0,1])\n",
    "\n",
    "except FileNotFoundError:\n",
    "    # Code to create country bounds\n",
    "\n",
    "    # Uses multiprocessing to speed up\n",
    "    nProcesses = 2 * mp.cpu_count()\n",
    "\n",
    "    with mp.get_context(\"spawn\").Pool(nProcesses) as pool:\n",
    "        # N.B. for countries spanning the date line,\n",
    "        # two sets of bounds are created, one each side\n",
    "        country_bounds = pool.starmap(CountryOutlines.get_bounds, countries)  \n",
    "\n",
    "    # Combine calculations from different processes\n",
    "    # TODO make index come out nicely\n",
    "    df = pd.concat(country_bounds).reset_index()\n",
    "    # Save\n",
    "    df.to_csv(\"interim/country_bounds2.csv\")\n",
    "\n"
   ]
  },
  {
   "cell_type": "markdown",
   "metadata": {},
   "source": [
    "Create rectangle for calculations by tropics"
   ]
  },
  {
   "cell_type": "code",
   "execution_count": 5,
   "metadata": {},
   "outputs": [],
   "source": [
    "\n",
    "cancer = 23.4372\n",
    "capricorn = -23.4394\n",
    "tropics = Polygon([(-180,cancer),(-180,capricorn),(180,capricorn),(180,cancer)])\n",
    "tropics = gpd.GeoDataFrame(geometry=[tropics])\n",
    "\n",
    "plot = False\n",
    "if plot:\n",
    "    ax = tropics.plot(facecolor=(1,1,1,0.4), edgecolor='white', linewidth=0.5)\n",
    "\n",
    "    with rasterio.open(\"raw/VCF5KYR_1982001_001_2018224204211.tif\") as f:\n",
    "        b1 = f.read(1)\n",
    "        b2 = f.read(2)\n",
    "        b3 = f.read(3)\n",
    "        bands = np.stack((b1,b2,b3),axis=0) / 100\n",
    "\n",
    "        show(bands, transform=f.transform, ax=ax)\n",
    "\n",
    "    del b1, b2, b3, bands, f"
   ]
  },
  {
   "cell_type": "markdown",
   "metadata": {},
   "source": [
    "Start computing means"
   ]
  },
  {
   "cell_type": "code",
   "execution_count": 91,
   "metadata": {},
   "outputs": [
    {
     "data": {
      "text/plain": [
       "236"
      ]
     },
     "execution_count": 91,
     "metadata": {},
     "output_type": "execute_result"
    }
   ],
   "source": [
    "\n",
    "\n",
    "# hh = HansenHandler\n",
    "# This code could maybe go in hansenhandler?\n",
    "latlong = [(lat, long) for lat in range(-50,90,10) for long in range(-180,180,10)]\n",
    "\n",
    "# floor10 = lambda x: np.floor(x/10)*10\n",
    "# ceil10 = lambda x: np.ceil(x/10)*10\n",
    "# count_side = lambda start, end: (ceil10(end) - floor10(start)) / 10\n",
    "# count_tiles = lambda df: count_side(df.minx, df.maxx) * count_side(df.miny, df.maxy)\n",
    "\n",
    "# df = df.assign(nTiles = count_tiles)\n",
    "\n",
    "# df[\"nTiles\"] = df.groupby(\"country\")[\"nTiles\"].transform(\"sum\")\n",
    "\n",
    "\n",
    "latlong.index((10,20))\n"
   ]
  },
  {
   "cell_type": "code",
   "execution_count": 7,
   "metadata": {},
   "outputs": [],
   "source": [
    "# Store outlines as they are being used\n",
    "outlines = {country: None for country in df.country.unique()}"
   ]
  },
  {
   "cell_type": "code",
   "execution_count": 46,
   "metadata": {},
   "outputs": [],
   "source": [
    "def read_band(raster, mask_band = None, window = None, return_affine=False):\n",
    "    if window:\n",
    "        band = raster.read(1, window=window)\n",
    "        affine = raster.window_transform(window)\n",
    "    else:\n",
    "        band = raster.read(1) #, window=win)\n",
    "        affine = raster.transform  # window_transform(win)\n",
    "\n",
    "    # if mask_band:\n",
    "    #     band[mask_band] = 255\n",
    "    if return_affine:\n",
    "        return (band, affine)\n",
    "    else:\n",
    "        return band"
   ]
  },
  {
   "cell_type": "code",
   "execution_count": 13,
   "metadata": {},
   "outputs": [
    {
     "name": "stdout",
     "output_type": "stream",
     "text": [
      "Index(['minx', 'miny', 'maxx', 'maxy', 'country', 'nTiles', 'code', 'area',\n",
      "       'cover_2000', 'gain', 'loss1', 'loss2', 'loss3', 'loss4', 'loss5',\n",
      "       'loss6', 'loss7', 'loss8', 'loss9', 'loss10', 'loss11', 'loss12',\n",
      "       'loss13', 'loss14', 'loss15', 'loss16', 'loss17', 'loss18', 'loss19',\n",
      "       'loss20'],\n",
      "      dtype='object')\n"
     ]
    }
   ],
   "source": [
    "# Things start to take a long time and use a lot of memory from here\n",
    "# so may move to Econ server\n",
    "\n",
    "# win = rasterio.windows.Window(20000,20000,20010,20010)\n",
    "win = None\n",
    "\n",
    "df[[\"code\",\"area\", \"cover_2000\", \"gain\", *(f\"loss{y+1}\" for y in range(20))]] = 0\n",
    "\n",
    "i = 0\n",
    "for coords in latlong:\n",
    "    tile = Tile(*coords)\n",
    "    # Subset countries whose bounds overlap\n",
    "    countries = df[tile.covers_country(df)]\n",
    "    \n",
    "    # Check if no countries overlap\n",
    "    if countries.empty:\n",
    "        continue\n",
    "\n",
    "    with tile.load_data(DataType.datamask) as mask_raster:\n",
    "        mask, mask_affine = read_band(mask_raster, window=win, return_affine=True)\n",
    "        \n",
    "        # Check if the tile has no data\n",
    "        # Might catch situations where country bounding box overlaps but country does not\n",
    "        if not np.any(mask):\n",
    "            continue\n",
    "\n",
    "        area = np.random.random(mask.shape)\n",
    "        # TODO remove brackets\n",
    "        with (tile.load_data(DataType.treecover2000) as cover_raster,\n",
    "            tile.load_data(DataType.gain)            as gain_raster,\n",
    "            tile.load_data(DataType.lossyear)        as lossyear_raster):\n",
    "\n",
    "            cover = read_band(cover_raster, window=win)\n",
    "            # cover[cover <= 25] = 0\n",
    "            # gain = read_band(gain_raster, window=win)\n",
    "            # lossyear = read_band(lossyear_raster, window=win)\n",
    "            countries = countries.droplevel(\"group\")\n",
    "            \n",
    "            for c, row in countries.iterrows():\n",
    "                # Load and save border if not already loaded\n",
    "                country = row.country\n",
    "                outline_gdf = outlines[country]\n",
    "                if outline_gdf is None:\n",
    "                    outlines[country] = outline_gdf = CountryOutlines.load_country(c)\n",
    "                \n",
    "                geom = outline_gdf.geometry\n",
    "                \n",
    "                # Or start here\n",
    "                geom = rasterize(geom, out_shape=mask.shape, transform=mask_affine)\n",
    "                \n",
    "                # Check if geom is empty\n",
    "                if not np.any(geom):\n",
    "                    print(c, tile.lat, tile.long)\n",
    "                    continue\n",
    "                \n",
    "                \n",
    "                # Either start here\n",
    "                # c for country\n",
    "                mask_c      = mask * geom == 1\n",
    "                area_c      = area[mask_c]\n",
    "                cover_c     = cover[mask_c]\n",
    "                # lossyear_c  = lossyear[mask_c]\n",
    "                # gain_c      = gain[mask_c]\n",
    "\n",
    "                # _, n = np.unique(mask.flatten(), return_counts=True)\n",
    "                df.loc[c,\"area\"].values[0] += area_c.sum()\n",
    "\n",
    "                # Look into tensorflow one hot\n",
    "                df.loc[c,\"cover_2000\"].values[0] += (cover_c * area_c).sum()\n",
    "\n",
    "                # df.loc[c, \"gain\"] += (gain_c * area_c).sum()\n",
    "\n",
    "                # for year in range(1,20):\n",
    "                #     yearmask = lossyear_c == year\n",
    "                #     loss_cy = lossyear_c[yearmask]\n",
    "                #     cover_cy = cover_c[yearmask]\n",
    "                #     area_cy = area_c[yearmask]\n",
    "\n",
    "                #     df.loc[c, f\"loss_{year}\"] += (loss_cy * cover_cy * area_cy).sum()\n",
    "\n",
    "                i += 1\n",
    "                if i > 0:\n",
    "                    break\n",
    "            \n",
    "\n",
    "\n",
    "\n",
    "\n",
    "\n",
    "    \n",
    "\n",
    "\n"
   ]
  },
  {
   "cell_type": "code",
   "execution_count": 29,
   "metadata": {},
   "outputs": [
    {
     "data": {
      "text/plain": [
       "group\n",
       "1    10.0\n",
       "Name: area, dtype: float64"
      ]
     },
     "execution_count": 29,
     "metadata": {},
     "output_type": "execute_result"
    }
   ],
   "source": [
    "df.loc[\"ATA\",\"area\"].values[0] += 2\n",
    "df.loc[\"ATA\",\"area\"]"
   ]
  },
  {
   "cell_type": "code",
   "execution_count": null,
   "metadata": {},
   "outputs": [],
   "source": [
    "# Draft code for parallelisation\n",
    "\n",
    "# def main(infile, outfile, num_workers=4):\n",
    "#     \"\"\"Process infile block-by-block and write to a new file\n",
    "\n",
    "#     The output is the same as the input, but with band order\n",
    "#     reversed.\n",
    "#     \"\"\"\n",
    "\n",
    "#     with rasterio.open(infile) as src:\n",
    "\n",
    "#         # Create a destination dataset based on source params. The\n",
    "#         # destination will be tiled, and we'll process the tiles\n",
    "#         # concurrently.\n",
    "#         profile = src.profile\n",
    "#         profile.update(blockxsize=128, blockysize=128, tiled=True)\n",
    "\n",
    "#         with rasterio.open(outfile, \"w\", **src.profile) as dst:\n",
    "#             windows = [window for ij, window in dst.block_windows()]\n",
    "\n",
    "#             # We cannot write to the same file from multiple threads\n",
    "#             # without causing race conditions. To safely read/write\n",
    "#             # from multiple threads, we use a lock to protect the\n",
    "#             # DatasetReader/Writer\n",
    "#             read_lock = threading.Lock()\n",
    "#             write_lock = threading.Lock()\n",
    "\n",
    "#             def process(window):\n",
    "#                 with read_lock:\n",
    "#                     src_array = src.read(window=window)\n",
    "\n",
    "#                 # The computation can be performed concurrently\n",
    "#                 result = compute(src_array)\n",
    "\n",
    "#                 with write_lock:\n",
    "#                     dst.write(result, window=window)\n",
    "\n",
    "#             # We map the process() function over the list of\n",
    "#             # windows.\n",
    "#             with concurrent.futures.ThreadPoolExecutor(\n",
    "#                 max_workers=num_workers\n",
    "#             ) as executor:\n",
    "#                 executor.map(process, windows)\n",
    "#         # For each \n",
    "\n",
    "        \n",
    "#         #     cover, cover_affine = read_band(cover, mask)\n",
    "#         #     write_pixel_counts(countries, df, )"
   ]
  },
  {
   "cell_type": "code",
   "execution_count": 47,
   "metadata": {},
   "outputs": [],
   "source": [
    "def area_of_pixels(lat_start, lat_end, n_pixels):\n",
    "    \"\"\"Calculate m^2 area of an ndarray of wgs84 square pixels.\n",
    "\n",
    "    Adapted from: https://gis.stackexchange.com/a/127327/2397\n",
    "    \n",
    "    \"\"\"\n",
    "    a = 6378137  # meters\n",
    "    b = 6356752.3142  # meters\n",
    "    e = np.sqrt(1 - (b/a)**2)\n",
    "    lower = np.linspace(lat_start, lat_end, n_pixels, endpoint=False)\n",
    "    \n",
    "    higher = np.append(lower[1:], lat_end)\n",
    "    pixel_size = (lat_end - lat_start) / n_pixels\n",
    "    def subcalc(lats):\n",
    "        sin_lats = np.sin(np.radians(lats))\n",
    "        e_sin_lats = e*sin_lats\n",
    "        zm = 1 - e_sin_lats\n",
    "        zp = 1 + e_sin_lats\n",
    "        return np.pi * b**2 * (np.arctanh(e_sin_lats) / e + sin_lats / (zp*zm))\n",
    "\n",
    "    return pixel_size / 360. * (subcalc(higher) - subcalc(lower))"
   ]
  },
  {
   "cell_type": "code",
   "execution_count": 44,
   "metadata": {},
   "outputs": [
    {
     "data": {
      "text/plain": [
       "array([[1.92329103e+08, 1.92329103e+08, 1.92329103e+08, 1.92329103e+08],\n",
       "       [1.92328212e+08, 1.92328212e+08, 1.92328212e+08, 1.92328212e+08],\n",
       "       [1.92326430e+08, 1.92326430e+08, 1.92326430e+08, 1.92326430e+08],\n",
       "       [1.92323757e+08, 1.92323757e+08, 1.92323757e+08, 1.92323757e+08]])"
      ]
     },
     "execution_count": 44,
     "metadata": {},
     "output_type": "execute_result"
    }
   ],
   "source": [
    "# area_of_pixels(0, )\n",
    "test = \"3077.2300079\"  # official number for pixel going 30' north of equator\n",
    "# TODO cite source\n",
    "\n",
    "test2 = area_of_pixels(0,0.5,4)\n",
    "\n",
    "np.tile(test2.reshape((-1,1)), (1,4))"
   ]
  },
  {
   "cell_type": "code",
   "execution_count": 18,
   "metadata": {},
   "outputs": [
    {
     "name": "stdout",
     "output_type": "stream",
     "text": [
      "2\n",
      "3\n"
     ]
    }
   ],
   "source": [
    "a = np.arange(16).reshape((4,4))\n",
    "b = np.arange(4)[::-1].reshape((4,1)) * 10\n",
    "\n",
    "b\n",
    "np.linspace(5, 1, 10).reshape((-1,1))\n",
    "\n",
    "(x, y) = (a, b) = (2, 3)\n",
    "print(a)\n",
    "print(y)"
   ]
  },
  {
   "cell_type": "code",
   "execution_count": null,
   "metadata": {},
   "outputs": [],
   "source": [
    "# Draft code to calculate extra countries\n",
    "\n",
    "\n",
    "# \"\"\"\n",
    "# ['XSP: Spratly Islands_1', 'XCA: Caspian Sea_1', 'XKO: Kosovo_3', 'XPI: Paracel Islands_1', 'ZNC: Northern Cyprus_2', 'XAD: Not found', 'XCL: Not found']\n",
    "# \"\"\"\n",
    "\n",
    "# test2 = \n",
    "\n",
    "# test = test.splitlines()\n",
    "# test = [re.match(r'gadm40_(\\w+).gpkg', line).groups()[0] for line in test]\n",
    "# missing = set(test).difference(set([c.alpha_3 for c in pycountry.countries]))\n",
    "# names = {c.alpha_3: c.name for c in pycountry.countries}\n",
    "# missing\n",
    "\n",
    "# test2 = test2.splitlines()\n",
    "# test2 = [re.match(r'.*\"([A-Z]+)_(.+)\".*',line).groups() for line in test2]\n",
    "# test2 = {k: v for (k,v) in test2}\n",
    "# print([f\"{k}: {test2[k]}\" if k in test2 else f\"{k}: Not found\" for k in missing])\n",
    "# m = re.match(r'.*\"([A-Z]+)_([A-Za-z]+).*','<option value=\"VNM_Vietnam_4\">Vietnam</option>')\n",
    "# m.groups()\n",
    "# countries"
   ]
  }
 ],
 "metadata": {
  "interpreter": {
   "hash": "1b750f273eab6bb805c9eba9b8f1c61f9aebec348bb54ede6125b0e9e60b3561"
  },
  "kernelspec": {
   "display_name": "Python 3.9.2 64-bit ('3.9.2': pyenv)",
   "language": "python",
   "name": "python3"
  },
  "language_info": {
   "codemirror_mode": {
    "name": "ipython",
    "version": 3
   },
   "file_extension": ".py",
   "mimetype": "text/x-python",
   "name": "python",
   "nbconvert_exporter": "python",
   "pygments_lexer": "ipython3",
   "version": "3.9.2"
  },
  "orig_nbformat": 4
 },
 "nbformat": 4,
 "nbformat_minor": 2
}
